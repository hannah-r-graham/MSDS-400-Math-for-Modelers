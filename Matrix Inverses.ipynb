{
 "cells": [
  {
   "cell_type": "markdown",
   "source": [
    "# MSDS 400 Matrix Inverses"
   ],
   "metadata": {}
  },
  {
   "cell_type": "code",
   "execution_count": 2,
   "source": [
    "import numpy as np\n",
    "from numpy.linalg import linalg, inv"
   ],
   "outputs": [],
   "metadata": {}
  },
  {
   "cell_type": "markdown",
   "source": [
    "**Module Objective:** demonstrate numpy matrix calculations.  For\n",
    "matrix calculations, arrays must be converted into numpy matrices.\n",
    "\n",
    "With numpy matrices, you can add, subtract, multiply, find the transpose\n",
    "find the inverse, solve systems of linear equations and much more.\n",
    "\n",
    "Solve a system of consistent linear equations.\n",
    "\n",
    "Right hand side of system of equations has data entered as a list\n",
    "and converted to 3x1 matrix and then a 1x3 matrix using the transpose\n",
    "function. Similar steps are taken for the matrix A."
   ],
   "metadata": {}
  },
  {
   "cell_type": "code",
   "execution_count": 4,
   "source": [
    "# rhs = [96, 87, 74]\n",
    "# rhs = np.matrix(rhs)\n",
    "# rhs = np.transpose(rhs)\n",
    "# print('\\nRight Hand Side of Equation')\n",
    "# print(rhs)\n",
    "\n",
    "A = [[1, -6,2], [0, -8 , 3], [0,-3,1]]\n",
    "A = np.matrix(A)\n",
    "print('\\nMatrix A')\n",
    "print(A)"
   ],
   "outputs": [
    {
     "output_type": "stream",
     "name": "stdout",
     "text": [
      "\n",
      "Matrix A\n",
      "[[ 1 -6  2]\n",
      " [ 0 -8  3]\n",
      " [ 0 -3  1]]\n"
     ]
    }
   ],
   "metadata": {}
  },
  {
   "cell_type": "markdown",
   "source": [
    "Numpy has various functions to perform matrix calculations.  The inverse\n",
    "function inv() is one of those.\n",
    "\n",
    "Find inverse of A."
   ],
   "metadata": {}
  },
  {
   "cell_type": "code",
   "execution_count": 5,
   "source": [
    "print('\\nInverse of A')\n",
    "IA = inv(A)\n",
    "print(IA)"
   ],
   "outputs": [
    {
     "output_type": "stream",
     "name": "stdout",
     "text": [
      "\n",
      "Inverse of A\n",
      "[[ 1.  0. -2.]\n",
      " [-0.  1. -3.]\n",
      " [-0.  3. -8.]]\n"
     ]
    }
   ],
   "metadata": {}
  },
  {
   "cell_type": "markdown",
   "source": [
    "In what follows, I am converting matrices with floating point numbers  to\n",
    "matrices with integer numbers.  This is optional and being done to show\n",
    "that it is possible to do so with numpy matrices.\n",
    "\n",
    "Note that the function np.dot() performs matrix multiplication.\n",
    "Verify inverse by multiplying matrix A and its inverse IA."
   ],
   "metadata": {}
  },
  {
   "cell_type": "code",
   "execution_count": 5,
   "source": [
    "print('\\nIdentity Matrix')\n",
    "I = np.dot(IA, A)\n",
    "I = np.rint(I)               # This converts floating point to integer.\n",
    "print(I)"
   ],
   "outputs": [
    {
     "output_type": "stream",
     "name": "stdout",
     "text": [
      "\n",
      "Identity Matrix\n",
      "[[ 1. -0. -0.]\n",
      " [ 0.  1.  0.]\n",
      " [ 0.  0.  1.]]\n"
     ]
    }
   ],
   "metadata": {}
  },
  {
   "cell_type": "markdown",
   "source": [
    "Solve the system of equations and convert to integer values. With numpy it is necessary to use np.dot() for the product."
   ],
   "metadata": {}
  },
  {
   "cell_type": "code",
   "execution_count": 8,
   "source": [
    "result = np.dot(IA, rhs)\n",
    "result = np.rint(result)    # This converts floating point to integer.\n",
    "print('\\n Solution to Problem')\n",
    "print(result)"
   ],
   "outputs": [
    {
     "output_type": "stream",
     "name": "stdout",
     "text": [
      "\n",
      " Solution to Problem\n",
      "[[13.]\n",
      " [ 1.]\n",
      " [20.]]\n"
     ]
    }
   ],
   "metadata": {}
  },
  {
   "cell_type": "markdown",
   "source": [
    "**Note:** There is a more efficient way to do this with the linalg.solve() function."
   ],
   "metadata": {}
  },
  {
   "cell_type": "code",
   "execution_count": 9,
   "source": [
    "print('\\Illustration of solution with linalg.solve(,) function')\n",
    "result2 = linalg.solve(A, rhs)\n",
    "print(np.rint(result2))    # This converts floating point to integer."
   ],
   "outputs": [
    {
     "output_type": "stream",
     "name": "stdout",
     "text": [
      "\n",
      "Illustration of solution with linalg.solve(,) function\n",
      "[[13.]\n",
      " [ 1.]\n",
      " [20.]]\n"
     ]
    }
   ],
   "metadata": {}
  },
  {
   "cell_type": "markdown",
   "source": [
    "Some square matrices do not have inverses. The following example shows\n",
    "how this is handled with numpy.  Note the magnitude of the elements."
   ],
   "metadata": {}
  },
  {
   "cell_type": "code",
   "execution_count": 3,
   "source": [
    "print('\\nExample of an inverse matrix for inconsistent equations')\n",
    "A = [[1, 2, 3], [-3, -2, -1], [-1, 0, 1]]\n",
    "A = np.array(A)\n",
    "IA = inv(A)\n",
    "print(IA)\n",
    "print(A)"
   ],
   "outputs": [
    {
     "output_type": "stream",
     "name": "stdout",
     "text": [
      "\n",
      "Example of an inverse matrix for inconsistent equations\n",
      "[[-2.25179981e+15 -2.25179981e+15  4.50359963e+15]\n",
      " [ 4.50359963e+15  4.50359963e+15 -9.00719925e+15]\n",
      " [-2.25179981e+15 -2.25179981e+15  4.50359963e+15]]\n",
      "[[ 1  2  3]\n",
      " [-3 -2 -1]\n",
      " [-1  0  1]]\n"
     ]
    }
   ],
   "metadata": {}
  },
  {
   "cell_type": "code",
   "execution_count": 9,
   "source": [
    "A = np.array([[.65,.6,.95], [.35,.4,.05]])\n",
    "B = np.array([[8,15], [5,5], [29,26]])\n",
    "C = np.matmul(A, B)\n",
    "print(A)\n",
    "print(B)\n",
    "print(C)"
   ],
   "outputs": [
    {
     "output_type": "stream",
     "name": "stdout",
     "text": [
      "[[0.65 0.6  0.95]\n",
      " [0.35 0.4  0.05]]\n",
      "[[ 8 15]\n",
      " [ 5  5]\n",
      " [29 26]]\n",
      "[[35.75 37.45]\n",
      " [ 6.25  8.55]]\n"
     ]
    }
   ],
   "metadata": {}
  },
  {
   "cell_type": "markdown",
   "source": [
    "SOlve system of equations where the answer (Right hand is B= -1, 2)"
   ],
   "metadata": {}
  },
  {
   "cell_type": "code",
   "execution_count": 10,
   "source": [
    "A = np.array([[5,-25],[-1,7]])\n",
    "B = np.array([-1,2]) #right hand of equations\n",
    "# IA = inv(A)\n",
    "# print(IA)\n",
    "# print(A)\n",
    "result2 = linalg.solve(A, B)\n",
    "print(result2)\n",
    "\n"
   ],
   "outputs": [
    {
     "output_type": "stream",
     "name": "stdout",
     "text": [
      "[4.3 0.9]\n"
     ]
    }
   ],
   "metadata": {}
  },
  {
   "cell_type": "markdown",
   "source": [
    "Solve system of equations with three equations and three responses. "
   ],
   "metadata": {}
  },
  {
   "cell_type": "code",
   "execution_count": 11,
   "source": [
    "A = np.array([[41,4,26],[0,6,66],[4,24,25]])\n",
    "B = np.array([191,156,158]) #right hand of equations\n",
    "# IA = inv(A)\n",
    "# print(IA)\n",
    "# print(A)\n",
    "result2 = linalg.solve(A, B)\n",
    "print(result2)"
   ],
   "outputs": [
    {
     "output_type": "stream",
     "name": "stdout",
     "text": [
      "[3. 4. 2.]\n"
     ]
    }
   ],
   "metadata": {}
  }
 ],
 "metadata": {
  "kernelspec": {
   "name": "python3",
   "display_name": "Python 3.11.2 64-bit"
  },
  "language_info": {
   "codemirror_mode": {
    "name": "ipython",
    "version": 3
   },
   "file_extension": ".py",
   "mimetype": "text/x-python",
   "name": "python",
   "nbconvert_exporter": "python",
   "pygments_lexer": "ipython3",
   "version": "3.11.2"
  },
  "varInspector": {
   "cols": {
    "lenName": 16,
    "lenType": 16,
    "lenVar": 40
   },
   "kernels_config": {
    "python": {
     "delete_cmd_postfix": "",
     "delete_cmd_prefix": "del ",
     "library": "var_list.py",
     "varRefreshCmd": "print(var_dic_list())"
    },
    "r": {
     "delete_cmd_postfix": ") ",
     "delete_cmd_prefix": "rm(",
     "library": "var_list.r",
     "varRefreshCmd": "cat(var_dic_list()) "
    }
   },
   "types_to_exclude": [
    "module",
    "function",
    "builtin_function_or_method",
    "instance",
    "_Feature"
   ],
   "window_display": false
  },
  "interpreter": {
   "hash": "aee8b7b246df8f9039afb4144a1f6fd8d2ca17a180786b69acc140d282b71a49"
  }
 },
 "nbformat": 4,
 "nbformat_minor": 1
}