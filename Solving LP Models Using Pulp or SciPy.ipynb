{
 "cells": [
  {
   "cell_type": "markdown",
   "metadata": {},
   "source": [
    "# MSDS 400 Solving LP Models Using Pulp or SciPy"
   ]
  },
  {
   "cell_type": "markdown",
   "metadata": {},
   "source": [
    "**Maximize** \n",
    "z = 10x1 + 15x2 + 10x3 + 5x4\n",
    "\n",
    "**Subject to:**<br>\n",
    "x1 + x2 + x3 + x4 ≤ 300<br>\n",
    "x1 + 2x2 + 3x3 + x4 ≤ 360<br>\n",
    "x1 ≥ 0, x2 ≥ 0, x3 ≥ 0, x4 ≥ 0\n"
   ]
  },
  {
   "cell_type": "markdown",
   "metadata": {},
   "source": [
    "**Solution:**  Maximum is 3300 when x1 = 240, x2 = 60, x3 = 0, x4 = 0"
   ]
  },
  {
   "cell_type": "markdown",
   "metadata": {},
   "source": [
    "#### Python Code:\n",
    "** Note: ** *The optimize.linprog function minimizes the target function as a default. If the problem is a maximization one, convert it to minimize −f(x)*\n"
   ]
  },
  {
   "cell_type": "code",
   "execution_count": 11,
   "metadata": {},
   "outputs": [
    {
     "name": "stdout",
     "output_type": "stream",
     "text": [
      "Scipy Optimize Optimal value: 0.0 \n",
      " x1, x2, x3, x4 : [0. 0.]\n",
      "\n",
      "\n"
     ]
    }
   ],
   "source": [
    "# Solution using linprog from Scipy.optimize\n",
    "# https://docs.scipy.org/doc/scipy-0.15.1/reference/generated/scipy.optimize.linprog.html\n",
    "\n",
    "from scipy.optimize import linprog\n",
    "\n",
    "# coefficients of objective function\n",
    "z = [0.039, 0.032] \n",
    "\n",
    "# coefficients of the left-hand side of the inequalities\n",
    "lhs = [[1, 1], [2.4, .8]]\n",
    "\n",
    "# coefficients of the right-hand side of the inequalities\n",
    "rhs = [100, 145]\n",
    "\n",
    "# set the bounds for the variables\n",
    "x1_bounds = (0, 54)\n",
    "x2_bounds = (0, 88)\n",
    "# x3_bounds = (0, None)\n",
    "# x4_bounds = (0, None)\n",
    "\n",
    "method='simplex'\n",
    "\n",
    "res = linprog(c=z, A_ub=lhs, b_ub=rhs,  bounds=(x1_bounds,x2_bounds))\n",
    "\n",
    "# See scipy documentation for additional details about scipy.optimize.OptimizeResult \n",
    "# https://docs.scipy.org/doc/scipy-0.15.1/reference/generated/scipy.optimize.linprog.html\n",
    "\n",
    "# Print optimal values of x1, x2, x3 and x4 \n",
    "print('Scipy Optimize Optimal value:', res.fun, '\\n x1, x2, x3, x4 :', res.x)\n",
    "print('\\n')"
   ]
  },
  {
   "cell_type": "code",
   "execution_count": 9,
   "metadata": {},
   "outputs": [
    {
     "name": "stdout",
     "output_type": "stream",
     "text": [
      "Maximuim cost: -0.0\n",
      "Optimal values for x and y: [-0. -0.]\n"
     ]
    }
   ],
   "source": [
    "from scipy.optimize import linprog\n",
    "\n",
    "c = [0.039, 0.032]\n",
    "A = [[1, 1], [2.4, 0.8]]\n",
    "b = [100, 145]\n",
    "res = linprog(c, A_ub=A, b_ub=b)\n",
    "\n",
    "print(f\"Maximuim cost: {-res.fun}\")\n",
    "print(f\"Optimal values for x and y: {-res.x}\")\n"
   ]
  },
  {
   "cell_type": "code",
   "execution_count": 8,
   "metadata": {},
   "outputs": [
    {
     "name": "stdout",
     "output_type": "stream",
     "text": [
      "Maximum cost: 0.0\n",
      "Optimal values for x and y: [0. 0.]\n"
     ]
    }
   ],
   "source": [
    "from scipy.optimize import linprog\n",
    "\n",
    "c = [0.039, .032]\n",
    "A = [[1, 1], [2.4, 0.8]]\n",
    "b = [100, 145]\n",
    "res = linprog(c, A_ub=A, b_ub=b)\n",
    "\n",
    "print(f\"Maximum cost: {res.fun}\")\n",
    "print(f\"Optimal values for x and y: {res.x}\")\n"
   ]
  },
  {
   "cell_type": "code",
   "execution_count": 33,
   "metadata": {},
   "outputs": [
    {
     "ename": "ValueError",
     "evalue": "Invalid input for linprog: unable to interpret bounds with this dimension tuple: (3, 2).",
     "output_type": "error",
     "traceback": [
      "\u001b[0;31m---------------------------------------------------------------------------\u001b[0m",
      "\u001b[0;31mValueError\u001b[0m                                Traceback (most recent call last)",
      "Cell \u001b[0;32mIn[33], line 20\u001b[0m\n\u001b[1;32m     15\u001b[0m \u001b[38;5;66;03m# x3_bounds = (3600,None)\u001b[39;00m\n\u001b[1;32m     16\u001b[0m \u001b[38;5;66;03m# x4_bounds = (0, None)\u001b[39;00m\n\u001b[1;32m     18\u001b[0m method\u001b[38;5;241m=\u001b[39m\u001b[38;5;124m'\u001b[39m\u001b[38;5;124msimplex\u001b[39m\u001b[38;5;124m'\u001b[39m\n\u001b[0;32m---> 20\u001b[0m res \u001b[38;5;241m=\u001b[39m \u001b[43mlinprog\u001b[49m\u001b[43m(\u001b[49m\u001b[43mc\u001b[49m\u001b[38;5;241;43m=\u001b[39;49m\u001b[43mz\u001b[49m\u001b[43m,\u001b[49m\u001b[43m \u001b[49m\u001b[43mA_ub\u001b[49m\u001b[38;5;241;43m=\u001b[39;49m\u001b[43mlhs\u001b[49m\u001b[43m,\u001b[49m\u001b[43m \u001b[49m\u001b[43mb_ub\u001b[49m\u001b[38;5;241;43m=\u001b[39;49m\u001b[43mrhs\u001b[49m\u001b[43m,\u001b[49m\u001b[43m  \u001b[49m\u001b[43mbounds\u001b[49m\u001b[38;5;241;43m=\u001b[39;49m\u001b[43m(\u001b[49m\u001b[43mx1_bounds\u001b[49m\u001b[43m,\u001b[49m\u001b[43mx2_bounds\u001b[49m\u001b[43m,\u001b[49m\u001b[43mx3_bounds\u001b[49m\u001b[43m)\u001b[49m\u001b[43m)\u001b[49m\n\u001b[1;32m     22\u001b[0m \u001b[38;5;66;03m# See scipy documentation for additional details about scipy.optimize.OptimizeResult \u001b[39;00m\n\u001b[1;32m     23\u001b[0m \u001b[38;5;66;03m# https://docs.scipy.org/doc/scipy-0.15.1/reference/generated/scipy.optimize.linprog.html\u001b[39;00m\n\u001b[1;32m     24\u001b[0m \n\u001b[1;32m     25\u001b[0m \u001b[38;5;66;03m# Print optimal values of x1, x2, x3 and x4 \u001b[39;00m\n\u001b[1;32m     26\u001b[0m \u001b[38;5;28mprint\u001b[39m(\u001b[38;5;124m'\u001b[39m\u001b[38;5;124mScipy Optimize Optimal value:\u001b[39m\u001b[38;5;124m'\u001b[39m, {res\u001b[38;5;241m.\u001b[39mfun}, \u001b[38;5;124m'\u001b[39m\u001b[38;5;130;01m\\n\u001b[39;00m\u001b[38;5;124m x1, x2, x3:\u001b[39m\u001b[38;5;124m'\u001b[39m, res\u001b[38;5;241m.\u001b[39mx)\n",
      "File \u001b[0;32m/usr/local/lib/python3.11/site-packages/scipy/optimize/_linprog.py:626\u001b[0m, in \u001b[0;36mlinprog\u001b[0;34m(c, A_ub, b_ub, A_eq, b_eq, bounds, method, callback, options, x0, integrality)\u001b[0m\n\u001b[1;32m    623\u001b[0m     integrality \u001b[38;5;241m=\u001b[39m np\u001b[38;5;241m.\u001b[39mbroadcast_to(integrality, np\u001b[38;5;241m.\u001b[39mshape(c))\n\u001b[1;32m    625\u001b[0m lp \u001b[38;5;241m=\u001b[39m _LPProblem(c, A_ub, b_ub, A_eq, b_eq, bounds, x0, integrality)\n\u001b[0;32m--> 626\u001b[0m lp, solver_options \u001b[38;5;241m=\u001b[39m \u001b[43m_parse_linprog\u001b[49m\u001b[43m(\u001b[49m\u001b[43mlp\u001b[49m\u001b[43m,\u001b[49m\u001b[43m \u001b[49m\u001b[43moptions\u001b[49m\u001b[43m,\u001b[49m\u001b[43m \u001b[49m\u001b[43mmeth\u001b[49m\u001b[43m)\u001b[49m\n\u001b[1;32m    627\u001b[0m tol \u001b[38;5;241m=\u001b[39m solver_options\u001b[38;5;241m.\u001b[39mget(\u001b[38;5;124m'\u001b[39m\u001b[38;5;124mtol\u001b[39m\u001b[38;5;124m'\u001b[39m, \u001b[38;5;241m1e-9\u001b[39m)\n\u001b[1;32m    629\u001b[0m \u001b[38;5;66;03m# Give unmodified problem to HiGHS\u001b[39;00m\n",
      "File \u001b[0;32m/usr/local/lib/python3.11/site-packages/scipy/optimize/_linprog_util.py:1026\u001b[0m, in \u001b[0;36m_parse_linprog\u001b[0;34m(lp, options, meth)\u001b[0m\n\u001b[1;32m   1023\u001b[0m solver_options, A_ub, A_eq \u001b[38;5;241m=\u001b[39m _check_sparse_inputs(solver_options, meth,\n\u001b[1;32m   1024\u001b[0m                                                   lp\u001b[38;5;241m.\u001b[39mA_ub, lp\u001b[38;5;241m.\u001b[39mA_eq)\n\u001b[1;32m   1025\u001b[0m \u001b[38;5;66;03m# Convert lists to numpy arrays, etc...\u001b[39;00m\n\u001b[0;32m-> 1026\u001b[0m lp \u001b[38;5;241m=\u001b[39m \u001b[43m_clean_inputs\u001b[49m\u001b[43m(\u001b[49m\u001b[43mlp\u001b[49m\u001b[38;5;241;43m.\u001b[39;49m\u001b[43m_replace\u001b[49m\u001b[43m(\u001b[49m\u001b[43mA_ub\u001b[49m\u001b[38;5;241;43m=\u001b[39;49m\u001b[43mA_ub\u001b[49m\u001b[43m,\u001b[49m\u001b[43m \u001b[49m\u001b[43mA_eq\u001b[49m\u001b[38;5;241;43m=\u001b[39;49m\u001b[43mA_eq\u001b[49m\u001b[43m)\u001b[49m\u001b[43m)\u001b[49m\n\u001b[1;32m   1027\u001b[0m \u001b[38;5;28;01mreturn\u001b[39;00m lp, solver_options\n",
      "File \u001b[0;32m/usr/local/lib/python3.11/site-packages/scipy/optimize/_linprog_util.py:462\u001b[0m, in \u001b[0;36m_clean_inputs\u001b[0;34m(lp)\u001b[0m\n\u001b[1;32m    458\u001b[0m     \u001b[38;5;28;01mraise\u001b[39;00m \u001b[38;5;167;01mValueError\u001b[39;00m(\n\u001b[1;32m    459\u001b[0m         \u001b[38;5;124m\"\u001b[39m\u001b[38;5;124mInvalid input for linprog: provide a \u001b[39m\u001b[38;5;132;01m{:d}\u001b[39;00m\u001b[38;5;124m x 2 array for bounds, \u001b[39m\u001b[38;5;124m\"\u001b[39m\n\u001b[1;32m    460\u001b[0m         \u001b[38;5;124m\"\u001b[39m\u001b[38;5;124mnot a 2 x \u001b[39m\u001b[38;5;132;01m{:d}\u001b[39;00m\u001b[38;5;124m array.\u001b[39m\u001b[38;5;124m\"\u001b[39m\u001b[38;5;241m.\u001b[39mformat(n_x, n_x))\n\u001b[1;32m    461\u001b[0m \u001b[38;5;28;01melse\u001b[39;00m:\n\u001b[0;32m--> 462\u001b[0m     \u001b[38;5;28;01mraise\u001b[39;00m \u001b[38;5;167;01mValueError\u001b[39;00m(\n\u001b[1;32m    463\u001b[0m         \u001b[38;5;124m\"\u001b[39m\u001b[38;5;124mInvalid input for linprog: unable to interpret bounds with this \u001b[39m\u001b[38;5;124m\"\u001b[39m\n\u001b[1;32m    464\u001b[0m         \u001b[38;5;124m\"\u001b[39m\u001b[38;5;124mdimension tuple: \u001b[39m\u001b[38;5;132;01m{0}\u001b[39;00m\u001b[38;5;124m.\u001b[39m\u001b[38;5;124m\"\u001b[39m\u001b[38;5;241m.\u001b[39mformat(bsh))\n\u001b[1;32m    466\u001b[0m \u001b[38;5;66;03m# The process above creates nan-s where the input specified None\u001b[39;00m\n\u001b[1;32m    467\u001b[0m \u001b[38;5;66;03m# Convert the nan-s in the 1st column to -np.inf and in the 2nd column\u001b[39;00m\n\u001b[1;32m    468\u001b[0m \u001b[38;5;66;03m# to np.inf\u001b[39;00m\n\u001b[1;32m    469\u001b[0m i_none \u001b[38;5;241m=\u001b[39m np\u001b[38;5;241m.\u001b[39misnan(bounds_clean[:, \u001b[38;5;241m0\u001b[39m])\n",
      "\u001b[0;31mValueError\u001b[0m: Invalid input for linprog: unable to interpret bounds with this dimension tuple: (3, 2)."
     ]
    }
   ],
   "source": [
    "from scipy.optimize import linprog\n",
    "\n",
    "# coefficients of objective function\n",
    "z = [.21 ,.33] \n",
    "\n",
    "# coefficients of the left-hand side of the inequalities\n",
    "lhs = [[40,20], [20,40], [50,50]]\n",
    "\n",
    "# coefficients of the right-hand side of the inequalities\n",
    "rhs = [2280, 2040,3600]\n",
    "\n",
    "# set the bounds for the variables\n",
    "x1_bounds = (2280,None)\n",
    "x2_bounds = (2040,None)\n",
    "x3_bounds = (3600,None)\n",
    "# x4_bounds = (0, None)\n",
    "\n",
    "method='simplex'\n",
    "\n",
    "res = linprog(c=z, A_ub=lhs, b_ub=rhs,  bounds=(x1_bounds,x2_bounds,x3_bounds))\n",
    "\n",
    "# See scipy documentation for additional details about scipy.optimize.OptimizeResult \n",
    "# https://docs.scipy.org/doc/scipy-0.15.1/reference/generated/scipy.optimize.linprog.html\n",
    "\n",
    "# Print optimal values of x1, x2, x3 and x4 \n",
    "print('Scipy Optimize Optimal value:', {res.fun}, '\\n x1, x2, x3:', res.x)\n",
    "print('\\n')"
   ]
  },
  {
   "cell_type": "code",
   "execution_count": 24,
   "metadata": {},
   "outputs": [
    {
     "name": "stdout",
     "output_type": "stream",
     "text": [
      "Minimum cost: 0.0\n",
      "Optimal values for p and r: [0. 0.]\n"
     ]
    }
   ],
   "source": [
    "from scipy.optimize import linprog\n",
    "\n",
    "c = [21,33]\n",
    "A = [[40,20], [20,40],[50,50]]\n",
    "b = [2280, 2040, 3600]\n",
    "res = linprog(c, A_ub=A, b_ub=b)\n",
    "\n",
    "print(f\"Minimum cost: {res.fun}\")\n",
    "print(f\"Optimal values for p and r: {res.x}\")\n"
   ]
  },
  {
   "cell_type": "markdown",
   "metadata": {},
   "source": [
    "A real-world example of linear programming could include any scenario where you are trying to minimize costs, while also maintaining time constraints and dealing with moving parts, which is almost every business! One specific example could be supply chain optimization. \n",
    "\n",
    "Given: \n",
    "\n",
    "A tech company produces two video game controllers: Controller A and Controller B. To satisfy contractual demands, at least 1600 controllers must be shipped each day. Its expected that the demand for Controller A will be at least 1000 units, and 800 for Controller B. Manufacturing limits production to no more than 2000 Controller A's a day and 1700 Controller B's a day, and a maximum of 2700 units. Controller A only profits $1, while controller b profits $5 a unit.\n",
    "\n",
    "Variables:\n",
    "\n",
    "x= controller A\n",
    "y=controller B\n",
    "P= Profit\n",
    "\n",
    "Constraints and cost functions:\n",
    "\n",
    "x>= 1000\n",
    "x<= 2000\n",
    "\n",
    "y=> 800\n",
    "y<= 1700\n",
    "\n",
    "-x-y=<-1600\n",
    "\n",
    "x+y<=2700\n",
    "max: -x-5y=-P\n",
    "\n",
    "solution:\n",
    "\n",
    "\n",
    "\n",
    "\n",
    "\n",
    "\n",
    "\n",
    "\n",
    "\n",
    "\n",
    "\n"
   ]
  },
  {
   "cell_type": "markdown",
   "metadata": {},
   "source": [
    "### Alternative Solution using Pulp Python package\n",
    "#### Note: The use of pulp to solve maximization/minimization problems is optional.\n",
    "#### ** Instructions for installing pulp package **\n",
    "##### http://pythonhosted.org/PuLP/main/installing_pulp_at_home.html\n",
    "\n"
   ]
  },
  {
   "cell_type": "code",
   "execution_count": 1,
   "metadata": {},
   "outputs": [
    {
     "name": "stdout",
     "output_type": "stream",
     "text": [
      "Requirement already satisfied: pulp in c:\\users\\d40835891\\appdata\\local\\continuum\\anaconda3\\lib\\site-packages (1.6.8)\n",
      "Requirement already satisfied: pyparsing>=2.0.1 in c:\\users\\d40835891\\appdata\\local\\continuum\\anaconda3\\lib\\site-packages (from pulp) (2.2.0)\n"
     ]
    }
   ],
   "source": [
    "!pip install pulp"
   ]
  },
  {
   "cell_type": "code",
   "execution_count": 13,
   "metadata": {},
   "outputs": [
    {
     "name": "stdout",
     "output_type": "stream",
     "text": [
      "Pulp Solution for x1, x2, x3 and x4\n",
      "240.0\n",
      "60.0\n",
      "0.0\n",
      "0.0\n"
     ]
    }
   ],
   "source": [
    "from pulp import LpVariable, LpProblem, LpMaximize, LpStatus, value, LpMinimize\n",
    "\n",
    "# declare your variables\n",
    "x1 = LpVariable(\"x1\", 0, None) # x1>=0\n",
    "x2 = LpVariable(\"x2\", 0, None) # x2>=0\n",
    "x3 = LpVariable(\"x3\", 0, None) # x3>=0\n",
    "x4 = LpVariable(\"x4\", 0, None) # x4>=0\n",
    "\n",
    "\n",
    "# defines the problem\n",
    "prob = LpProblem(\"problem\", LpMaximize)\n",
    "\n",
    "# defines the constraints\n",
    "prob += x1 + x2 + x3 + x4 <= 300\n",
    "prob += x1 + 2*x2 + 3*x3 +x4 <= 360\n",
    "\n",
    "# defines the objective function to maximize\n",
    "prob += 10*x1 + 15*x2+ 10*x3 + 5*x4\n",
    "\n",
    "# solve the problem\n",
    "status = prob.solve()\n",
    "LpStatus[status]\n",
    "\n",
    "# print the results\n",
    "print(\"Pulp Solution for x1, x2, x3 and x4\")\n",
    "print(value(x1))\n",
    "print(value(x2))\n",
    "print(value(x3))\n",
    "print(value(x4))"
   ]
  },
  {
   "cell_type": "markdown",
   "metadata": {},
   "source": [
    "#### Example 2: \n",
    "**Minimize** \n",
    "w = 22y1 + 44y2 + 33y3\n",
    "\n",
    "**Subject to:**<br>\n",
    "y1 + 2y2 + y3 ≥ 3<br> \n",
    "y1 + y3 ≥ 3<br> \n",
    "3y1 + 2y2 + 2y3 ≥ 8<br>\n",
    "y1 ≥ 0, y2 ≥ 0, y3 ≥ 0"
   ]
  },
  {
   "cell_type": "code",
   "execution_count": 14,
   "metadata": {},
   "outputs": [
    {
     "name": "stdout",
     "output_type": "stream",
     "text": [
      "\n",
      "\n",
      "Scipy Optimize Optimal value: 66.0 \n",
      " y1, y2, y3: [3. 0. 0.]\n",
      "\n",
      "\n"
     ]
    }
   ],
   "source": [
    "from scipy.optimize import linprog\n",
    "\n",
    "w = [22, 44, 33] \n",
    "lhs = [[-1, -2, -1], [-1, 0,-1],[-3, -2, -2]]\n",
    "rhs = [-3, -3, -8]\n",
    "y1_bounds = (0, None)\n",
    "y2_bounds = (0, None)\n",
    "y3_bounds = (0, None)\n",
    "\n",
    "res = linprog(c=w, A_ub=lhs, b_ub=rhs, \n",
    "bounds=(y1_bounds,y2_bounds, y3_bounds))\n",
    "print('\\n')\n",
    "print('Scipy Optimize Optimal value:', res.fun, '\\n y1, y2, y3:', res.x)\n",
    "print('\\n')"
   ]
  },
  {
   "cell_type": "markdown",
   "metadata": {},
   "source": [
    "### Alternative Solution using Pulp Python package\n",
    "#### Note: The use of pulp to solve maximization/minimization problems is optional."
   ]
  },
  {
   "cell_type": "code",
   "execution_count": 15,
   "metadata": {},
   "outputs": [
    {
     "name": "stdout",
     "output_type": "stream",
     "text": [
      "Pulp Solutions for y1, y2, and y3\n",
      "3.0\n",
      "0.0\n",
      "0.0\n"
     ]
    }
   ],
   "source": [
    "from pulp import LpVariable, LpProblem, LpMaximize, LpStatus, value, LpMinimize\n",
    "\n",
    "# declare your variables\n",
    "y1 = LpVariable(\"y1\", 0, None) # y1>=0\n",
    "y2 = LpVariable(\"y2\", 0, None) # y2>=0\n",
    "y3 = LpVariable(\"y3\", 0, None) # y3>=0\n",
    "# defines the problem\n",
    "prob = LpProblem(\"problem\", LpMinimize)\n",
    "# defines the constraints\n",
    "prob += y1 + 2*y2 + y3 >= 3\n",
    "prob += y1 + y3 >= 3\n",
    "prob += 3*y1 + 2*y2 + 2*y3 >= 8\n",
    "\n",
    "# defines the objective function to maximize\n",
    "prob += 22*y1 + 44*y2+ 33*y3\n",
    "# solve the problem\n",
    "status = prob.solve()\n",
    "LpStatus[status]\n",
    "# print the results\n",
    "print(\"Pulp Solutions for y1, y2, and y3\")\n",
    "print(value(y1))\n",
    "print(value(y2))\n",
    "print(value(y3))\n"
   ]
  }
 ],
 "metadata": {
  "interpreter": {
   "hash": "aee8b7b246df8f9039afb4144a1f6fd8d2ca17a180786b69acc140d282b71a49"
  },
  "kernelspec": {
   "display_name": "Python 3.11.2 64-bit",
   "name": "python3"
  },
  "language_info": {
   "codemirror_mode": {
    "name": "ipython",
    "version": 3
   },
   "file_extension": ".py",
   "mimetype": "text/x-python",
   "name": "python",
   "nbconvert_exporter": "python",
   "pygments_lexer": "ipython3",
   "version": "3.11.2"
  },
  "varInspector": {
   "cols": {
    "lenName": 16,
    "lenType": 16,
    "lenVar": 40
   },
   "kernels_config": {
    "python": {
     "delete_cmd_postfix": "",
     "delete_cmd_prefix": "del ",
     "library": "var_list.py",
     "varRefreshCmd": "print(var_dic_list())"
    },
    "r": {
     "delete_cmd_postfix": ") ",
     "delete_cmd_prefix": "rm(",
     "library": "var_list.r",
     "varRefreshCmd": "cat(var_dic_list()) "
    }
   },
   "types_to_exclude": [
    "module",
    "function",
    "builtin_function_or_method",
    "instance",
    "_Feature"
   ],
   "window_display": false
  }
 },
 "nbformat": 4,
 "nbformat_minor": 1
}
