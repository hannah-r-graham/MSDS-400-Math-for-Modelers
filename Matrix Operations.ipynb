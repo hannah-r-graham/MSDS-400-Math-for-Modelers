{
 "cells": [
  {
   "cell_type": "markdown",
   "metadata": {},
   "source": [
    "# MSDS 400 Matrix Operations"
   ]
  },
  {
   "cell_type": "code",
   "execution_count": 2,
   "metadata": {},
   "outputs": [],
   "source": [
    "from numpy import array, absolute\n",
    "import numpy as np"
   ]
  },
  {
   "cell_type": "markdown",
   "metadata": {},
   "source": [
    "**Module Objective:** demonstrate numpy list and array operations.\n",
    "(Numpy Lists and arrays are useful data structures that serve multiple\n",
    "purposes. For matrix calculations, arrays must be converted into\n",
    "matrices. Array manipulations are valuable for preparing data for\n",
    "linear algebra. Matrix calculations are shown in Session 2 Module 3.\n",
    "\n",
    "This example defines a list called t, and shows how elements 1 and 3\n",
    "can be located.  The first element in t is indexed as 0."
   ]
  },
  {
   "cell_type": "code",
   "execution_count": 10,
   "metadata": {},
   "outputs": [
    {
     "name": "stdout",
     "output_type": "stream",
     "text": [
      "\n",
      "Value at first location:  1\n",
      "Value at third location:  3\n",
      "Value located using negative index:  2 \n",
      "\n"
     ]
    }
   ],
   "source": [
    "t = [1, 2, 3]\n",
    "print('\\nValue at first location:  {}'.format(t[0]))\n",
    "print('Value at third location:  {}'.format(t[2]))\n",
    "print('Value located using negative index:  {} \\n'.format(t[-2]))"
   ]
  },
  {
   "cell_type": "markdown",
   "metadata": {},
   "source": [
    "The next two examples demonstrate the difference between concantenation\n",
    "and forming an array. `result2` is a list of lists or an array."
   ]
  },
  {
   "cell_type": "code",
   "execution_count": 11,
   "metadata": {},
   "outputs": [
    {
     "name": "stdout",
     "output_type": "stream",
     "text": [
      "Comparison of a concatenated list with an array \n",
      "r= [4, 5, 6] and t= [1, 2, 3] \n",
      "\n",
      "Concatenation example using t and r lists. [1, 2, 3, 4, 5, 6]\n",
      "\n",
      " Comparison of concatenation with array([t,r]).\n",
      "[[1 2 3]\n",
      " [4 5 6]]\n"
     ]
    }
   ],
   "source": [
    "print('Comparison of a concatenated list with an array ')\n",
    "r = [4, 5, 6]\n",
    "print('r= {} and t= {} \\n'.format(r, t))\n",
    "result1 = t + r\n",
    "print('Concatenation example using t and r lists. {}'.format(result1))\n",
    "result2 = array([t, r])\n",
    "print('\\n Comparison of concatenation with array([t,r]).')\n",
    "print(result2)"
   ]
  },
  {
   "cell_type": "markdown",
   "metadata": {},
   "source": [
    "**Note:** Different results are produced by indexing for a list and an array."
   ]
  },
  {
   "cell_type": "code",
   "execution_count": 12,
   "metadata": {},
   "outputs": [
    {
     "name": "stdout",
     "output_type": "stream",
     "text": [
      "\n",
      " The second element of the preceding list and array\n",
      "2\n",
      "[4 5 6]\n"
     ]
    }
   ],
   "source": [
    "print('\\n The second element of the preceding list and array')\n",
    "print(result1[1])\n",
    "print(result2[1])"
   ]
  },
  {
   "cell_type": "markdown",
   "metadata": {},
   "source": [
    "Array slicing is demonstrated briefly with two examples.  The first shows\n",
    "how to produce a single element.  The second and third show how to produce\n",
    "a reduced array from the original array. Array slicing goes beyond the\n",
    "scope of this course.  It is an essential tool for array operations."
   ]
  },
  {
   "cell_type": "code",
   "execution_count": 13,
   "metadata": {},
   "outputs": [
    {
     "name": "stdout",
     "output_type": "stream",
     "text": [
      "\n",
      " Slicing to produce an element, a column and a row of the array\n",
      "2\n",
      "[2 5]\n",
      "[4 5 6]\n"
     ]
    }
   ],
   "source": [
    "print('\\n Slicing to produce an element, a column and a row of the array')\n",
    "print(result2[0, 1])\n",
    "print(result2[:, 1])  # Note the horizontal output of a column.\n",
    "print(result2[1, :])"
   ]
  },
  {
   "cell_type": "markdown",
   "metadata": {},
   "source": [
    "The next series of examples demonstrates simple array operations.  Arrays may\n",
    "be operated on prior to conversion to a matrix for matrix operations.\n",
    "Arrays can be constructed directly from lists of data."
   ]
  },
  {
   "cell_type": "code",
   "execution_count": 14,
   "metadata": {},
   "outputs": [
    {
     "name": "stdout",
     "output_type": "stream",
     "text": [
      "\n",
      " Arrays in order: m , n and m+n\n",
      "[[10 12  5]\n",
      " [15 20  8]]\n",
      "[[45 35 20]\n",
      " [65 40 35]]\n",
      "[[55 47 25]\n",
      " [80 60 43]]\n",
      "\n",
      " Subtraction of n from m equals q\n",
      "[[-35 -23 -15]\n",
      " [-50 -20 -27]]\n",
      "\n",
      " Multiplication of q by a scalar 2.0\n",
      "[[ -70.  -46.  -30.]\n",
      " [-100.  -40.  -54.]]\n",
      "\n",
      " Functions can be applied to an array such as absolute value\n",
      "[[ 70.  46.  30.]\n",
      " [100.  40.  54.]]\n"
     ]
    }
   ],
   "source": [
    "m = array([[10, 12, 5], [15, 20, 8]])\n",
    "n = array([[45, 35, 20], [65, 40, 35]])\n",
    "q = m + n\n",
    "print('\\n Arrays in order: m , n and m+n')\n",
    "print(m)\n",
    "print(n)  # Note that context determines the purpose of \"n\".\n",
    "print(q)\n",
    "\n",
    "print('\\n Subtraction of n from m equals q')\n",
    "q = m - n\n",
    "print(q)\n",
    "\n",
    "s = 2.0\n",
    "print('\\n Multiplication of q by a scalar {}'.format(s))\n",
    "q = s*q\n",
    "print(q)\n",
    "\n",
    "print('\\n Functions can be applied to an array such as absolute value')\n",
    "q = absolute(q)\n",
    "print(q)"
   ]
  },
  {
   "cell_type": "code",
   "execution_count": 3,
   "metadata": {},
   "outputs": [
    {
     "name": "stdout",
     "output_type": "stream",
     "text": [
      "[30. 55. 80.]\n"
     ]
    }
   ],
   "source": [
    "A = np.array([[1, 1, 1], [12,17,22], [15,22,38]])\n",
    "b = np.array([165, 3055, 4700])\n",
    "x = np.linalg.solve(A, b)\n",
    "\n",
    "print(x)"
   ]
  },
  {
   "cell_type": "code",
   "execution_count": 4,
   "metadata": {},
   "outputs": [
    {
     "name": "stdout",
     "output_type": "stream",
     "text": [
      "[149000. 216000. 188000.]\n"
     ]
    }
   ],
   "source": [
    "A = np.array([[.2,.15,.15], [.3,.5,.2], [.5,.35,.65]])\n",
    "b = np.array([90400, 190300, 272300])\n",
    "\n",
    "x = np.linalg.solve(A, b)\n",
    "print(x)"
   ]
  },
  {
   "cell_type": "code",
   "execution_count": null,
   "metadata": {},
   "outputs": [],
   "source": []
  },
  {
   "cell_type": "code",
   "execution_count": 6,
   "metadata": {},
   "outputs": [
    {
     "name": "stdout",
     "output_type": "stream",
     "text": [
      "[[12000 23000 35000 52000]\n",
      " [15000 21000 28000 60000]]\n",
      "[[0.08 0.   0.   0.  ]\n",
      " [0.   0.13 0.   0.  ]\n",
      " [0.   0.   0.07 0.  ]\n",
      " [0.   0.   0.   0.2 ]]\n",
      "[[  960.  2990.  2450. 10400.]\n",
      " [ 1200.  2730.  1960. 12000.]]\n"
     ]
    }
   ],
   "source": [
    "import numpy as np\n",
    "A = np.array([[12000,23000,35000,52000],[15000,21000,28000,60000]])\n",
    "B = np.array([[0.08, 0, 0,0], [0, 0.13,0,0], [0,0,0.07,0], [0,0,0,0.2]])\n",
    "print(A)\n",
    "print(B)\n",
    "result = np.matmul(A, B)\n",
    "print(result)\n"
   ]
  },
  {
   "cell_type": "markdown",
   "metadata": {},
   "source": [
    "Below is calculating cramers rule for a system of equations of 2 equations."
   ]
  },
  {
   "cell_type": "code",
   "execution_count": 9,
   "metadata": {},
   "outputs": [
    {
     "name": "stdout",
     "output_type": "stream",
     "text": [
      "(array([-3., -5.]), 2.0, array([ -6., -10.]))\n"
     ]
    }
   ],
   "source": [
    "import numpy as np\n",
    "\n",
    "def cramer(mat, constant):\n",
    "    D = np.linalg.det(mat)\n",
    "    mat1 = np.array([constant, mat[:, 1]])\n",
    "    mat2 = np.array([mat[:, 0], constant])\n",
    "    Dx = np.linalg.det([mat1, mat2])\n",
    "    X = Dx/D\n",
    "    return X, D, Dx\n",
    "\n",
    "A = np.array([[4,-2], [3, -1]])\n",
    "b = np.array([-2, -4])\n",
    "\n",
    "x = cramer(A, b)\n",
    "print(x)\n",
    "\n",
    "\n",
    "\n"
   ]
  },
  {
   "cell_type": "markdown",
   "metadata": {},
   "source": [
    "for a system of three equations: "
   ]
  },
  {
   "cell_type": "code",
   "execution_count": 3,
   "metadata": {},
   "outputs": [
    {
     "name": "stdout",
     "output_type": "stream",
     "text": [
      "(array([149000., 216000., 188000.]), 0.01500000000000001, array([2235., 3240., 2820.]))\n"
     ]
    }
   ],
   "source": [
    "def cramer(mat, constant):\n",
    "    D = np.linalg.det(mat)\n",
    "    mat1 = np.array([constant, mat[:, 1], mat[:, 2]])\n",
    "    mat2 = np.array([mat[:, 0], constant, mat[:, 2]])\n",
    "    mat3 = np.array([mat[:, 0], mat[:, 1], constant])\n",
    "    Dx = np.linalg.det([mat1, mat2, mat3])\n",
    "    X = Dx/D\n",
    "    return X, D, Dx\n",
    "\n",
    "A = np.array([[.2,.15,.15], [.3,.5,.2], [.5,.35,.65]])\n",
    "b = np.array([90400, 190300, 272300])\n",
    "\n",
    "x = cramer(A, b)\n",
    "print(x)"
   ]
  }
 ],
 "metadata": {
  "interpreter": {
   "hash": "aee8b7b246df8f9039afb4144a1f6fd8d2ca17a180786b69acc140d282b71a49"
  },
  "kernelspec": {
   "display_name": "Python 3.11.2 64-bit",
   "name": "python3"
  },
  "language_info": {
   "codemirror_mode": {
    "name": "ipython",
    "version": 3
   },
   "file_extension": ".py",
   "mimetype": "text/x-python",
   "name": "python",
   "nbconvert_exporter": "python",
   "pygments_lexer": "ipython3",
   "version": "3.11.2"
  },
  "varInspector": {
   "cols": {
    "lenName": 16,
    "lenType": 16,
    "lenVar": 40
   },
   "kernels_config": {
    "python": {
     "delete_cmd_postfix": "",
     "delete_cmd_prefix": "del ",
     "library": "var_list.py",
     "varRefreshCmd": "print(var_dic_list())"
    },
    "r": {
     "delete_cmd_postfix": ") ",
     "delete_cmd_prefix": "rm(",
     "library": "var_list.r",
     "varRefreshCmd": "cat(var_dic_list()) "
    }
   },
   "types_to_exclude": [
    "module",
    "function",
    "builtin_function_or_method",
    "instance",
    "_Feature"
   ],
   "window_display": false
  }
 },
 "nbformat": 4,
 "nbformat_minor": 1
}
